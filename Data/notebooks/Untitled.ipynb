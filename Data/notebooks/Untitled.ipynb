{
 "cells": [
  {
   "cell_type": "code",
   "execution_count": null,
   "id": "849346f3-bdac-4692-905f-32d3a4260ff0",
   "metadata": {},
   "outputs": [],
   "source": [
    "from pyspark.sql import SparkSession\n",
    "\n",
    "# Create Spark session pointing to the Spark master\n",
    "spark = SparkSession.builder \\\n",
    "    .appName(\"DeltaTest\") \\\n",
    "    .getOrCreate()\n",
    "\n",
    "# Read a CSV file from /home/jovyan/work/data/raw (adjust filename as needed)\n",
    "df = spark.read.option(\"header\", \"true\") \\\n",
    "    .option(\"inferSchema\", \"true\") \\\n",
    "    .csv(\"/home/jovyan/work/data/raw/my_raw_file.csv\")\n",
    "\n",
    "# Write to Delta\n",
    "df.write.format(\"delta\").mode(\"overwrite\") \\\n",
    "    .save(\"/home/jovyan/work/delta/raw/my_table\")"
   ]
  },
  {
   "cell_type": "code",
   "execution_count": null,
   "id": "caf3742c-264d-4715-b6f6-3328789a8a1f",
   "metadata": {},
   "outputs": [],
   "source": [
    "spark.sql(\"\"\"\n",
    "    CREATE TABLE IF NOT EXISTS raw_my_table\n",
    "    USING DELTA\n",
    "    LOCATION '/home/jovyan/work/delta/raw/my_table'\n",
    "\"\"\")\n",
    "\n",
    "# Query the table\n",
    "spark.sql(\"SELECT * FROM raw_my_table LIMIT 10\").show()\n",
    "\n",
    "spark.stop()\n"
   ]
  }
 ],
 "metadata": {
  "kernelspec": {
   "display_name": "Python 3 (ipykernel)",
   "language": "python",
   "name": "python3"
  },
  "language_info": {
   "codemirror_mode": {
    "name": "ipython",
    "version": 3
   },
   "file_extension": ".py",
   "mimetype": "text/x-python",
   "name": "python",
   "nbconvert_exporter": "python",
   "pygments_lexer": "ipython3",
   "version": "3.11.6"
  }
 },
 "nbformat": 4,
 "nbformat_minor": 5
}
